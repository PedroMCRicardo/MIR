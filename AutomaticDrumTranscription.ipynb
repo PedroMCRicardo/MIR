{
 "cells": [
  {
   "cell_type": "markdown",
   "metadata": {},
   "source": [
    "# MIR Task: Automatic Drum Transcription\n",
    "\n",
    "According to MIREX2018 , drum transcription is defined as the task of de-tecting the positions in time and labeling the drum class of drum instrument onsets in polyphonic music. The article A Review of Automatic Drum Transcription offers an in-debt explanation about automatic drum transcription as well as an extremely up to date state of the art.\n",
    "The present task proposes to test and evaluate an automatic drum transcription algorithm, implemented using ADTLib and Essentia, in a beatbox (vocal percussion) dataset.\n",
    "\n",
    "This notebook requires ADTLib. See ADTLib repo for installation instructions. If you experience problems, be sure to install the latest versions of tensorflow and dask.\n"
   ]
  },
  {
   "cell_type": "code",
   "execution_count": 72,
   "metadata": {},
   "outputs": [],
   "source": [
    "import pandas as pd\n",
    "import numpy as np\n",
    "import scipy as sp\n",
    "import matplotlib.pyplot as plt\n",
    "from IPython.display import display, Audio\n",
    "import csv\n",
    "from ADTLib import ADT\n",
    "import mir_eval"
   ]
  },
  {
   "cell_type": "markdown",
   "metadata": {},
   "source": [
    "# 1) Beatboxset1\n",
    "\n",
    "The beatboxset1: beatboxing audio data set available in the Audio Content Analysis contains beatboxing recordings from various contributors, who recorded the clips themselves in various conditions. There is a spreadsheet file \"beatboxset1.csv\" accompanying the dataset that provides metadata for the recordings. Further annotations of the recordings are also included: these mark the positions of onsets as well as categorizing the events into a handful of standard classes.\n",
    " * k  = kick\n",
    " * hc = hihat, closed\n",
    " * ho = hihat, open\n",
    " * sb = snare, \"bish\" or \"pss\" -like\n",
    " * sk = snare, \"k\" -like  (may sound like a \"clap\" or \"rimshot\" snare)\n",
    " * s  = snare but not sure which of the above types (or isn't either of them)\n",
    " * br = a breath sound (not intended to sound like percussion)\n",
    " * m  = humming (or similar, a note with no drum-like or speech-like nature)\n",
    " * v  = speech or singing\n",
    " * x  = miscellaneous other sound (identifiable, but not fitting one of the other categories)\n",
    " * ?  = unsure of classification\n",
    " \n",
    "In order to compare the handmade annotations and the output of the ADTLIB, the previous categorization will be reduce to three different categories: Kick, Snare and Hihat\n",
    " * Kick  = k\n",
    " * Snare = sb, sk, s\n",
    " * Hihat = hc,ho\n"
   ]
  },
  {
   "cell_type": "code",
   "execution_count": 73,
   "metadata": {},
   "outputs": [],
   "source": [
    "dict_bb = {}\n",
    "filenames = []\n",
    "dataframes = []\n",
    "\n",
    "def strip_end(text, suffix):\n",
    "    if not text.endswith(suffix):\n",
    "        return text\n",
    "    return text[:len(text)-len(suffix)] \n",
    "\n",
    "df = pd.read_csv('beatboxset1/beatboxset1.csv', sep=',', error_bad_lines=False, index_col=False, dtype='unicode')\n",
    "\n",
    "for i , filename in enumerate(df.Filename):\n",
    "    name = strip_end(filename, '.wav')\n",
    "    df_temp = pd.read_csv('beatboxset1/Annotations_DR/' + name +'.csv', sep=',',header=None, dtype='unicode')\n",
    "    dataframes.append(df_temp) \n",
    "    filenames.append(name)"
   ]
  },
  {
   "cell_type": "code",
   "execution_count": 74,
   "metadata": {},
   "outputs": [],
   "source": [
    "def get_nested(data, *args):\n",
    "    if args and data:\n",
    "        element  = args[0]\n",
    "        if element:\n",
    "            value = data.get(element)\n",
    "            return value if len(args) == 1 else get_nested(value, *args[1:])\n",
    "\n",
    "for i, filename in enumerate(filenames):\n",
    "    dict_bb[filename] = {}\n",
    "    dict_bb[filename]['Kick'] = []\n",
    "    dict_bb[filename]['Snare'] = []\n",
    "    dict_bb[filename]['Hihat'] = []\n",
    "    \n",
    "#dict_bb[filename]['Kick'].append(2)    \n",
    "#display(dict_bb)  \n",
    "#get_nested(dict_bb, \"callout_adiao\" )"
   ]
  },
  {
   "cell_type": "code",
   "execution_count": 105,
   "metadata": {},
   "outputs": [],
   "source": [
    "#Kick\n",
    "for i, df in enumerate(dataframes):\n",
    "    df1 = df[df[1].str.contains(\"k\")] \n",
    "    indexNames = df1[df1[1]=='sk'].index\n",
    "    df2 = df1.copy()\n",
    "    df2.drop(indexNames, inplace=True)\n",
    "    t = list(df2[0])\n",
    "    t = np.asarray(t)\n",
    "    dict_bb[filenames[i]]['Kick'] = t  \n",
    "\n",
    "#Snare\n",
    "for i, df in enumerate(dataframes): \n",
    "    df1 = df[df[1].str.contains(\"s\")] \n",
    "    t =list(df1[0])\n",
    "    t = np.asarray(t)\n",
    "    dict_bb[filenames[i]]['Snare'] = t \n",
    "\n",
    "#Hihat\n",
    "for i, df in enumerate(dataframes): \n",
    "    df1 = df[df[1].str.contains(\"h\")] \n",
    "    t =list(df1[0])\n",
    "    t = np.asarray(t)\n",
    "    dict_bb[filenames[i]]['Hihat'] = t \n",
    "    \n",
    "#print(list(df[0]))\n",
    "#print(dict_bb)\n",
    "#get_nested(dict_bb, \"callout_adiao\" )\n"
   ]
  },
  {
   "cell_type": "markdown",
   "metadata": {},
   "source": [
    "# 2) ADTLib\n",
    "\n",
    "Automatic Drum Transcription Library (ADTLib) is a library that contains open source ADT algorithms to aid other researchers in areas of music infor- mation retrieval (MIR). The algorithms return both a .txt file of kick drum, snare drum, and hi-hat onsets and an automatically generated drum tablature. Further information about the library and how it was implemented can be found on Automatic drum transcription for polyphonic recordings using soft attention mechanisms and convolutional neural networks.\n",
    "\n"
   ]
  },
  {
   "cell_type": "code",
   "execution_count": 76,
   "metadata": {},
   "outputs": [
    {
     "name": "stdout",
     "output_type": "stream",
     "text": [
      "INFO:tensorflow:Restoring parameters from /anaconda3/lib/python3.6/site-packages/ADTLib/files/KickADTLibAll\n",
      "INFO:tensorflow:Restoring parameters from /anaconda3/lib/python3.6/site-packages/ADTLib/files/SnareADTLibAll\n",
      "INFO:tensorflow:Restoring parameters from /anaconda3/lib/python3.6/site-packages/ADTLib/files/HihatADTLibAll\n",
      "INFO:tensorflow:Restoring parameters from /anaconda3/lib/python3.6/site-packages/ADTLib/files/KickADTLibAll\n",
      "INFO:tensorflow:Restoring parameters from /anaconda3/lib/python3.6/site-packages/ADTLib/files/SnareADTLibAll\n",
      "INFO:tensorflow:Restoring parameters from /anaconda3/lib/python3.6/site-packages/ADTLib/files/HihatADTLibAll\n",
      "INFO:tensorflow:Restoring parameters from /anaconda3/lib/python3.6/site-packages/ADTLib/files/KickADTLibAll\n",
      "INFO:tensorflow:Restoring parameters from /anaconda3/lib/python3.6/site-packages/ADTLib/files/SnareADTLibAll\n",
      "INFO:tensorflow:Restoring parameters from /anaconda3/lib/python3.6/site-packages/ADTLib/files/HihatADTLibAll\n",
      "INFO:tensorflow:Restoring parameters from /anaconda3/lib/python3.6/site-packages/ADTLib/files/KickADTLibAll\n",
      "INFO:tensorflow:Restoring parameters from /anaconda3/lib/python3.6/site-packages/ADTLib/files/SnareADTLibAll\n",
      "INFO:tensorflow:Restoring parameters from /anaconda3/lib/python3.6/site-packages/ADTLib/files/HihatADTLibAll\n",
      "INFO:tensorflow:Restoring parameters from /anaconda3/lib/python3.6/site-packages/ADTLib/files/KickADTLibAll\n",
      "INFO:tensorflow:Restoring parameters from /anaconda3/lib/python3.6/site-packages/ADTLib/files/SnareADTLibAll\n",
      "INFO:tensorflow:Restoring parameters from /anaconda3/lib/python3.6/site-packages/ADTLib/files/HihatADTLibAll\n",
      "INFO:tensorflow:Restoring parameters from /anaconda3/lib/python3.6/site-packages/ADTLib/files/KickADTLibAll\n",
      "INFO:tensorflow:Restoring parameters from /anaconda3/lib/python3.6/site-packages/ADTLib/files/SnareADTLibAll\n",
      "INFO:tensorflow:Restoring parameters from /anaconda3/lib/python3.6/site-packages/ADTLib/files/HihatADTLibAll\n",
      "INFO:tensorflow:Restoring parameters from /anaconda3/lib/python3.6/site-packages/ADTLib/files/KickADTLibAll\n",
      "INFO:tensorflow:Restoring parameters from /anaconda3/lib/python3.6/site-packages/ADTLib/files/SnareADTLibAll\n",
      "INFO:tensorflow:Restoring parameters from /anaconda3/lib/python3.6/site-packages/ADTLib/files/HihatADTLibAll\n",
      "INFO:tensorflow:Restoring parameters from /anaconda3/lib/python3.6/site-packages/ADTLib/files/KickADTLibAll\n",
      "INFO:tensorflow:Restoring parameters from /anaconda3/lib/python3.6/site-packages/ADTLib/files/SnareADTLibAll\n",
      "INFO:tensorflow:Restoring parameters from /anaconda3/lib/python3.6/site-packages/ADTLib/files/HihatADTLibAll\n"
     ]
    },
    {
     "name": "stderr",
     "output_type": "stream",
     "text": [
      "/anaconda3/lib/python3.6/site-packages/scipy/io/wavfile.py:273: WavFileWarning: Chunk (non-data) not understood, skipping it.\n",
      "  WavFileWarning)\n"
     ]
    },
    {
     "name": "stdout",
     "output_type": "stream",
     "text": [
      "INFO:tensorflow:Restoring parameters from /anaconda3/lib/python3.6/site-packages/ADTLib/files/KickADTLibAll\n",
      "INFO:tensorflow:Restoring parameters from /anaconda3/lib/python3.6/site-packages/ADTLib/files/SnareADTLibAll\n",
      "INFO:tensorflow:Restoring parameters from /anaconda3/lib/python3.6/site-packages/ADTLib/files/HihatADTLibAll\n",
      "INFO:tensorflow:Restoring parameters from /anaconda3/lib/python3.6/site-packages/ADTLib/files/KickADTLibAll\n",
      "INFO:tensorflow:Restoring parameters from /anaconda3/lib/python3.6/site-packages/ADTLib/files/SnareADTLibAll\n",
      "INFO:tensorflow:Restoring parameters from /anaconda3/lib/python3.6/site-packages/ADTLib/files/HihatADTLibAll\n",
      "INFO:tensorflow:Restoring parameters from /anaconda3/lib/python3.6/site-packages/ADTLib/files/KickADTLibAll\n",
      "INFO:tensorflow:Restoring parameters from /anaconda3/lib/python3.6/site-packages/ADTLib/files/SnareADTLibAll\n",
      "INFO:tensorflow:Restoring parameters from /anaconda3/lib/python3.6/site-packages/ADTLib/files/HihatADTLibAll\n",
      "INFO:tensorflow:Restoring parameters from /anaconda3/lib/python3.6/site-packages/ADTLib/files/KickADTLibAll\n",
      "INFO:tensorflow:Restoring parameters from /anaconda3/lib/python3.6/site-packages/ADTLib/files/SnareADTLibAll\n",
      "INFO:tensorflow:Restoring parameters from /anaconda3/lib/python3.6/site-packages/ADTLib/files/HihatADTLibAll\n",
      "INFO:tensorflow:Restoring parameters from /anaconda3/lib/python3.6/site-packages/ADTLib/files/KickADTLibAll\n",
      "INFO:tensorflow:Restoring parameters from /anaconda3/lib/python3.6/site-packages/ADTLib/files/SnareADTLibAll\n",
      "INFO:tensorflow:Restoring parameters from /anaconda3/lib/python3.6/site-packages/ADTLib/files/HihatADTLibAll\n",
      "INFO:tensorflow:Restoring parameters from /anaconda3/lib/python3.6/site-packages/ADTLib/files/KickADTLibAll\n",
      "INFO:tensorflow:Restoring parameters from /anaconda3/lib/python3.6/site-packages/ADTLib/files/SnareADTLibAll\n",
      "INFO:tensorflow:Restoring parameters from /anaconda3/lib/python3.6/site-packages/ADTLib/files/HihatADTLibAll\n"
     ]
    }
   ],
   "source": [
    "dict_ADT = {}\n",
    "\n",
    "for i, filename in enumerate(filenames):\n",
    "    name = filename + '.wav'\n",
    "    dict_ADT[filename] = ADT(['beatboxset1/'+ name])[0]"
   ]
  },
  {
   "cell_type": "code",
   "execution_count": 106,
   "metadata": {},
   "outputs": [],
   "source": [
    "#get_nested(dict_ADT, \"callout_adiao\" )"
   ]
  },
  {
   "cell_type": "markdown",
   "metadata": {},
   "source": [
    "# 2) Evaluation\n",
    "\n",
    "\n",
    "The evaluation method focus in understanding how well the implemented algo- rithm performs by comparing the hand-made annotations, available in the data set, to the annotations produced by the algorithm. To do this, a F-measure value will be computed for each different sound: kick, snare and hi-hat.  After an F-measure is computed for each individual sound, a value combing these 3 different F-measure values will be calculated.\n",
    "\n",
    "The library mir_eval will be used to make the calculation of the F-measure.\n",
    "\n",
    "mir_eval.onset.evaluate: determine which estimated onsets are “correct”, where correctness is defined as being within a small window of a reference onset.\n",
    "\n",
    "https://github.com/craffel/mir_eval\n",
    "\n",
    "Colin Raffel, Brian McFee, Eric J. Humphrey, Justin Salamon, Oriol Nieto, Dawen Liang, and Daniel P. W. Ellis, \"mir_eval: A Transparent Implementation of Common MIR Metrics\", Proceedings of the 15th International Conference on Music Information Retrieval, 2014.\n"
   ]
  },
  {
   "cell_type": "code",
   "execution_count": 168,
   "metadata": {},
   "outputs": [
    {
     "name": "stderr",
     "output_type": "stream",
     "text": [
      "/anaconda3/lib/python3.6/site-packages/mir_eval/onset.py:49: UserWarning: Reference onsets are empty.\n",
      "  warnings.warn(\"Reference onsets are empty.\")\n"
     ]
    }
   ],
   "source": [
    "#mir_eval.onset.evaluate(ref_onsets, est_onsets, window=0.002)\n",
    "dict_FM = {}\n",
    "\n",
    "#for plotting \n",
    "list_Kick = []\n",
    "list_Snare = []\n",
    "list_Hihat = []\n",
    "\n",
    "for i, filename in enumerate(filenames):\n",
    "    u1 = np.fromiter(dict_bb[filename]['Kick'], dtype = float)\n",
    "    a1 = np.fromiter(dict_ADT[filename]['Kick'], dtype = float)\n",
    "    measure_kick = mir_eval.onset.evaluate(u1,a1,window=0.25)\n",
    "    list_Kick.append(measure_kick['F-measure'])\n",
    "    \n",
    "    u2 = np.fromiter(dict_bb[filename]['Snare'], dtype = float)\n",
    "    a2 = np.fromiter(dict_ADT[filename]['Snare'], dtype = float)\n",
    "    measure_snare = mir_eval.onset.evaluate(u2,a2,window=0.25)\n",
    "    list_Snare.append(measure_snare['F-measure'])\n",
    "    \n",
    "    u3 = np.fromiter(dict_bb[filename]['Hihat'], dtype = float)\n",
    "    a3 = np.fromiter(dict_ADT[filename]['Hihat'], dtype = float)\n",
    "    measure_Hihat = mir_eval.onset.evaluate(u3,a3,window=0.25)\n",
    "    list_Hihat.append(measure_Hihat['F-measure'])\n",
    "    \n",
    "    dict_FM[filename] = (measure_kick['F-measure'],measure_snare['F-measure'],measure_hihat['F-measure'])\n",
    "    \n",
    "    \n",
    "    "
   ]
  },
  {
   "cell_type": "code",
   "execution_count": 169,
   "metadata": {},
   "outputs": [
    {
     "data": {
      "text/plain": [
       "[0.6051660516605167,\n",
       " 0.6459627329192548,\n",
       " 0.71900826446281,\n",
       " 0.3916083916083916,\n",
       " 0.7397260273972602,\n",
       " 0.43750000000000006,\n",
       " 0.6666666666666666,\n",
       " 0.2605042016806723,\n",
       " 0.4873417721518987,\n",
       " 0.8609865470852018,\n",
       " 0.017857142857142856,\n",
       " 0.7088607594936709,\n",
       " 0.27272727272727276,\n",
       " 0.379746835443038]"
      ]
     },
     "metadata": {},
     "output_type": "display_data"
    },
    {
     "data": {
      "text/plain": [
       "[0.4919786096256685,\n",
       " 0.6262626262626262,\n",
       " 0.9428571428571428,\n",
       " 0.5454545454545454,\n",
       " 0.7428571428571429,\n",
       " 0.45283018867924524,\n",
       " 0.8,\n",
       " 0.46153846153846156,\n",
       " 0.5429864253393665,\n",
       " 0.8172043010752689,\n",
       " 0.31304347826086953,\n",
       " 0.7591240875912408,\n",
       " 0.673076923076923,\n",
       " 0.7906976744186047]"
      ]
     },
     "metadata": {},
     "output_type": "display_data"
    }
   ],
   "source": [
    "#display(dict_FM)\n",
    "display(list_Hihat)\n",
    "display(list_Snare)"
   ]
  },
  {
   "cell_type": "markdown",
   "metadata": {},
   "source": [
    "# 3) Results\n",
    "\n",
    "What are the results?\n",
    " * Make a graph with all different f measures? for each song\n"
   ]
  },
  {
   "cell_type": "code",
   "execution_count": 182,
   "metadata": {},
   "outputs": [
    {
     "data": {
      "image/png": "[encoded data removed]",
      "text/plain": [
       "<Figure size 1152x648 with 1 Axes>"
      ]
     },
     "metadata": {},
     "output_type": "display_data"
    }
   ],
   "source": [
    "n_groups = 14\n",
    "\n",
    "means_Kick = list_Kick\n",
    "means_Snare = list_Snare\n",
    "means_Hihat = list_Hihat\n",
    "\n",
    "# create plot\n",
    "fig, ax = plt.subplots()\n",
    "index = np.arange(n_groups)\n",
    "bar_width = 0.15\n",
    "opacity = 0.8\n",
    " \n",
    "rects1 = plt.bar(index, means_Kick, bar_width, alpha=opacity, color='b', label='Kick')\n",
    "rects2 = plt.bar(index + bar_width, means_Snare, bar_width, alpha=opacity, color='g', label='Snare')\n",
    "rects3 = plt.bar(index + 0.3, means_Hihat, bar_width, alpha=opacity, color='y', label='Hihat')\n",
    "\n",
    "plt.xlabel('Songs')\n",
    "plt.ylabel('F-measure')\n",
    "plt.xticks(index + bar_width, filenames)\n",
    "plt.legend()\n",
    " \n",
    "plt.tight_layout()\n",
    "plt.rcParams[\"figure.figsize\"] = [20,9]\n",
    "plt.show()\n"
   ]
  },
  {
   "cell_type": "code",
   "execution_count": null,
   "metadata": {},
   "outputs": [],
   "source": []
  }
 ],
 "metadata": {
  "kernelspec": {
   "display_name": "Python 3",
   "language": "python",
   "name": "python3"
  },
  "language_info": {
   "codemirror_mode": {
    "name": "ipython",
    "version": 3
   },
   "file_extension": ".py",
   "mimetype": "text/x-python",
   "name": "python",
   "nbconvert_exporter": "python",
   "pygments_lexer": "ipython3",
   "version": "3.6.5"
  }
 },
 "nbformat": 4,
 "nbformat_minor": 2
}
