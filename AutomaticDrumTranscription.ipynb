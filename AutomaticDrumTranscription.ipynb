{
 "cells": [
  {
   "cell_type": "markdown",
   "metadata": {},
   "source": [
    "# MIR Task: Beatbox Dataset Evaluation Using Automatic Drum Transcription\n",
    "\n",
    "According to [MIREX2018](https://www.music-ir.org/mirex/wiki/2018:Drum_Transcription), drum transcription is defined as the task of detecting the positions in time and labeling the drum class of drum instrument onsets in polyphonic music. The article *[A Review of Automatic Drum Transcription](https://ieeexplore.ieee.org/document/8350302)* offers an indebt explanation about automatic drum transcription as well as an extremely up to date state of the art.\n",
    "\n",
    "The present task proposes to test and evaluate a [beatbox](https://archive.org/details/beatboxset1) dataset using an automatic drum transcription algorithm - [ADTLib](https://carlsouthall.files.wordpress.com/2017/12/ismir2017adt.pdf). \n",
    "To do so, a second dataset [ENST-Drums](http://www.tsi.telecom-paristech.fr/aao/en/2010/02/19/enst-drums-an-extensive-audio-visual-database-for-drum-signals-processing/) (used initially to develop ADTLib) will be used as a term of comparison.\n",
    "\n",
    "Further conclusions about the beatbox dataset and it's elements will be made. \n",
    "\n",
    "This notebook requires the instalation of  **[ADTLib](https://github.com/CarlSouthall/ADTLib)** and **[mir_eval](https://github.com/craffel/mir_eval)**"
   ]
  },
  {
   "cell_type": "code",
   "execution_count": 16,
   "metadata": {},
   "outputs": [],
   "source": [
    "import glob\n",
    "import errno\n",
    "from sklearn.metrics import confusion_matrix\n",
    "import pandas as pd\n",
    "import numpy as np\n",
    "import scipy as sp\n",
    "import matplotlib.pyplot as plt\n",
    "from IPython.display import display, Audio\n",
    "import csv\n",
    "from ADTLib import ADT\n",
    "import mir_eval"
   ]
  },
  {
   "cell_type": "markdown",
   "metadata": {},
   "source": [
    "# 1) Beatboxset1\n",
    "\n",
    "The [beatboxset1](https://archive.org/details/beatboxset1): beatboxing audio data set available in the Audio Content Analysis contains beatboxing recordings from various contributors, who recorded the clips themselves in various conditions. A spreadshit \"beatboxset1.csv\" accompanying the dataset that provides metadata for the recordings. Further annotations of the recordings are also included: these mark the positions of onsets as well as categorizing the events into a handful of standard classes.\n",
    " * k  = kick\n",
    " * hc = hihat, closed\n",
    " * ho = hihat, open\n",
    " * sb = snare, \"bish\" or \"pss\" -like\n",
    " * sk = snare, \"k\" -like  (may sound like a \"clap\" or \"rimshot\" snare)\n",
    " * s  = snare but not sure which of the above types (or isn't either of them)\n",
    " * br = a breath sound (not intended to sound like percussion)\n",
    " * m  = humming (or similar, a note with no drum-like or speech-like nature)\n",
    " * v  = speech or singing\n",
    " * x  = miscellaneous other sound (identifiable, but not fitting one of the other categories)\n",
    " * ?  = unsure of classification\n",
    " \n",
    "In order to compare the handmade annotations and the output of the ADTLIB, the previous categorization will be reduce to three different categories: Kick, Snare and Hihat\n",
    " * Kick  = k\n",
    " * Snare = sb, sk, s\n",
    " * Hihat = hc,ho\n"
   ]
  },
  {
   "cell_type": "code",
   "execution_count": 17,
   "metadata": {},
   "outputs": [],
   "source": [
    "dict_bb = {}\n",
    "filenames = []\n",
    "dataframes = []\n",
    "\n",
    "#Function to delete sufix of a word\n",
    "def strip_end(text, suffix):\n",
    "    if not text.endswith(suffix):\n",
    "        return text\n",
    "    return text[:len(text)-len(suffix)] \n",
    "\n",
    "#Read beatbox1.cvs where all hand made annotations are\n",
    "df = pd.read_csv('beatboxset1/beatboxset1.csv', sep=',', error_bad_lines=False, index_col=False, dtype='unicode')\n",
    "\n",
    "for i , filename in enumerate(df.Filename):\n",
    "    name = strip_end(filename, '.wav')\n",
    "    df_temp = pd.read_csv('beatboxset1/Annotations_DR/' + name +'.csv', sep=',',header=None, dtype='unicode')\n",
    "    dataframes.append(df_temp) \n",
    "    filenames.append(name)"
   ]
  },
  {
   "cell_type": "code",
   "execution_count": 18,
   "metadata": {},
   "outputs": [],
   "source": [
    "#funtion that allows to read information inside dictionary\n",
    "def get_nested(data, *args):\n",
    "    if args and data:\n",
    "        element  = args[0]\n",
    "        if element:\n",
    "            value = data.get(element)\n",
    "            return value if len(args) == 1 else get_nested(value, *args[1:])\n",
    "#beatbox dictionary creation\n",
    "for i, filename in enumerate(filenames):\n",
    "    dict_bb[filename] = {}\n",
    "    dict_bb[filename]['Kick'] = []\n",
    "    dict_bb[filename]['Snare'] = []\n",
    "    dict_bb[filename]['Hihat'] = []"
   ]
  },
  {
   "cell_type": "code",
   "execution_count": 19,
   "metadata": {},
   "outputs": [],
   "source": [
    "#Insert handmade kick annotations in the beatbox dictionary\n",
    "for i, df in enumerate(dataframes):\n",
    "    df1 = df[df[1].str.contains(\"k\")] \n",
    "    indexNames = df1[df1[1]=='sk'].index\n",
    "    df2 = df1.copy()\n",
    "    df2.drop(indexNames, inplace=True)\n",
    "    t = list(df2[0])\n",
    "    t = np.asarray(t)\n",
    "    dict_bb[filenames[i]]['Kick'] = t  \n",
    "\n",
    "#Insert handmade Snare annotations in the beatbox dictionary\n",
    "for i, df in enumerate(dataframes): \n",
    "    df1 = df[df[1].str.contains(\"s\")] \n",
    "    t =list(df1[0])\n",
    "    t = np.asarray(t)\n",
    "    dict_bb[filenames[i]]['Snare'] = t \n",
    "\n",
    "#Insert handmade Hihat annotations in the beatbox dictionary\n",
    "for i, df in enumerate(dataframes): \n",
    "    df1 = df[df[1].str.contains(\"h\")] \n",
    "    t =list(df1[0])\n",
    "    t = np.asarray(t)\n",
    "    dict_bb[filenames[i]]['Hihat'] = t "
   ]
  },
  {
   "cell_type": "markdown",
   "metadata": {},
   "source": [
    "# 2) ENST-Drums"
   ]
  },
  {
   "cell_type": "markdown",
   "metadata": {},
   "source": [
    "[ENST-Drums](http://biblio.telecom-paristech.fr/cgi-bin/download.cgi?id=6651) is a large and varied research database for automatic drum transcription and processing:\n",
    "\n",
    "* Three professional drummers specialized in different music genres were recorded.\n",
    "\n",
    "*  Total duration of audio material recorded per drummer is around 75 minutes.\n",
    "\n",
    "* Each drummer played his own drum kit.\n",
    "\n",
    "* Each sequence used either sticks, rods, brushes or mallets to increase the diversity of drum sounds.\n",
    "\n",
    "* The drum kits themselves are varied, ranging from a small, portable, kit with two toms and 2 cymbals, suitable for jazz and latin music ; to a larger rock drum set with 4 toms and 5 cymbals.\n",
    "\n",
    "(Missing description of the dataset)\n",
    "\n",
    "* sweep = brush sweep\n",
    "* sticks = Sticks hit together\n",
    "* sd = snare drum\n",
    "* rs = rim shot\n",
    "* cs = cross stick\n",
    "* chh = closed hihat\n",
    "* ohh = open hihat\n",
    "* cb = cowbell\n",
    "* c = other cymbals\n",
    "* bd = bass drum\n",
    "\n",
    "\n",
    "  (...)\n",
    "  \n",
    "In order to compare the handmade annotations and the output of the ADTLIB, the previous categorization will be reduce to three different categories: Kick, Snare and Hihat.\n",
    "\n"
   ]
  },
  {
   "cell_type": "code",
   "execution_count": 20,
   "metadata": {},
   "outputs": [],
   "source": [
    "dict_enst = {}\n",
    "filenames_enst = []\n",
    "dataframes_enst = []\n",
    "\n",
    "#Function to delete prefix of a word\n",
    "def strip_big(text, prefix):\n",
    "    return text[len(prefix):] if text.startswith(prefix) else text\n",
    "\n",
    "#Read diles from ENST-drums-dataset where all hand made annotations are\n",
    "filenames_enst = glob.glob(\"ENST-drums-dataset/*.txt\")\n",
    "\n",
    "for i , filename in enumerate(filenames_enst):\n",
    "    filenames_enst[i] = strip_big(filename,'ENST-drums-dataset/')\n",
    "    \n",
    "for i , filename in enumerate(filenames_enst):\n",
    "    df_temp = pd.read_csv('ENST-drums-dataset/' + filename, sep=' ',header=None, )\n",
    "    dataframes_enst.append(df_temp)"
   ]
  },
  {
   "cell_type": "code",
   "execution_count": 21,
   "metadata": {},
   "outputs": [],
   "source": [
    "#ENST dataset dictionary creation\n",
    "for i, filename in enumerate(filenames_enst):\n",
    "    dict_enst[filename] = {}\n",
    "    dict_enst[filename]['Kick'] = []\n",
    "    dict_enst[filename]['Snare'] = []\n",
    "    dict_enst[filename]['Hihat'] = []"
   ]
  },
  {
   "cell_type": "code",
   "execution_count": 22,
   "metadata": {},
   "outputs": [],
   "source": [
    "#Insert handmade kick annotations in the the ENST dictionary\n",
    "for i, df in enumerate(dataframes_enst):\n",
    "    df1 = df[df[1].str.contains(\"bd\")] \n",
    "    indexNames = df1[df1[1]=='bd'].index\n",
    "    t = list(df1[0])\n",
    "    t = np.asarray(t)\n",
    "    dict_enst[filenames_enst[i]]['Kick'] = t  \n",
    "\n",
    "#Insert handmade Snare annotations in the the ENST dictionary\n",
    "for i, df in enumerate(dataframes_enst): \n",
    "    df1 = df[df[1].str.contains(\"sd\")] \n",
    "    t =list(df1[0])\n",
    "    t = np.asarray(t)\n",
    "    dict_enst[filenames_enst[i]]['Snare'] = t \n",
    "\n",
    "#Insert handmade hihat annotations in the the ENST dictionary\n",
    "for i, df in enumerate(dataframes_enst): \n",
    "    df1 = df[df[1].str.contains(\"hh\")] \n",
    "    t =list(df1[0])\n",
    "    t = np.asarray(t)\n",
    "    dict_enst[filenames_enst[i]]['Hihat'] = t "
   ]
  },
  {
   "cell_type": "markdown",
   "metadata": {},
   "source": [
    "# 3) ADTLib\n",
    "\n",
    "Automatic Drum Transcription Library (ADTLib) is a library that contains open source ADT algorithms to aid other researchers in areas of music information retrieval (MIR). The algorithms return both a .txt file of kick drum, snare drum, and hi-hat onsets location.\n",
    "\n",
    "ADTLib was develop as an open source implementation of the different systems and algorithms initially presented in the research paper *[Automatic drum transcription for polyphonic recordings using soft attention mechanisms and convolutional neural networks](https://carlsouthall.files.wordpress.com/2017/12/ismir2017adt.pdf)* (2017). The paper by Carl Southall, Ryan Stables and Jason Hockman focus in implementing different techniques using soft attention mechanisms (SA), convolutional neural networks (CNN) and bidirectional recurrent neural networks(BRNN) on the  automatic drum transcription problem.\n",
    "\n",
    "However, [ADTLib](https://github.com/CarlSouthall/ADTLib) does not train neural networks. The music files are processed through a pre-trained neural network to give the automatic drum transcriptions. More information about the implementation of ADTLib can be found in [this](https://samxan.wordpress.com/2017/10/22/notes-on-tensorflow-and-how-it-was-used-in-adtlib/) blog post. \n"
   ]
  },
  {
   "cell_type": "code",
   "execution_count": 8,
   "metadata": {},
   "outputs": [
    {
     "name": "stdout",
     "output_type": "stream",
     "text": [
      "WARNING:tensorflow:From /anaconda3/lib/python3.6/site-packages/tensorflow/python/framework/op_def_library.py:263: colocate_with (from tensorflow.python.framework.ops) is deprecated and will be removed in a future version.\n",
      "Instructions for updating:\n",
      "Colocations handled automatically by placer.\n",
      "WARNING:tensorflow:From /anaconda3/lib/python3.6/site-packages/ADTLib/utils/__init__.py:259: LSTMCell.__init__ (from tensorflow.python.ops.rnn_cell_impl) is deprecated and will be removed in a future version.\n",
      "Instructions for updating:\n",
      "This class is equivalent as tf.keras.layers.LSTMCell, and will be replaced by that in Tensorflow 2.0.\n",
      "WARNING:tensorflow:From /anaconda3/lib/python3.6/site-packages/ADTLib/utils/__init__.py:259: MultiRNNCell.__init__ (from tensorflow.python.ops.rnn_cell_impl) is deprecated and will be removed in a future version.\n",
      "Instructions for updating:\n",
      "This class is equivalent as tf.keras.layers.StackedRNNCells, and will be replaced by that in Tensorflow 2.0.\n",
      "WARNING:tensorflow:From /anaconda3/lib/python3.6/site-packages/ADTLib/utils/__init__.py:312: bidirectional_dynamic_rnn (from tensorflow.python.ops.rnn) is deprecated and will be removed in a future version.\n",
      "Instructions for updating:\n",
      "Please use `keras.layers.Bidirectional(keras.layers.RNN(cell))`, which is equivalent to this API\n",
      "WARNING:tensorflow:From /anaconda3/lib/python3.6/site-packages/tensorflow/python/ops/rnn.py:443: dynamic_rnn (from tensorflow.python.ops.rnn) is deprecated and will be removed in a future version.\n",
      "Instructions for updating:\n",
      "Please use `keras.layers.RNN(cell)`, which is equivalent to this API\n",
      "WARNING:tensorflow:From /anaconda3/lib/python3.6/site-packages/tensorflow/python/ops/rnn.py:626: to_int32 (from tensorflow.python.ops.math_ops) is deprecated and will be removed in a future version.\n",
      "Instructions for updating:\n",
      "Use tf.cast instead.\n",
      "WARNING:tensorflow:From /anaconda3/lib/python3.6/site-packages/tensorflow/python/ops/rnn_cell_impl.py:1259: calling dropout (from tensorflow.python.ops.nn_ops) with keep_prob is deprecated and will be removed in a future version.\n",
      "Instructions for updating:\n",
      "Please use `rate` instead of `keep_prob`. Rate should be set to `rate = 1 - keep_prob`.\n",
      "WARNING:tensorflow:From /anaconda3/lib/python3.6/site-packages/ADTLib/utils/__init__.py:333: softmax_cross_entropy_with_logits (from tensorflow.python.ops.nn_ops) is deprecated and will be removed in a future version.\n",
      "Instructions for updating:\n",
      "\n",
      "Future major versions of TensorFlow will allow gradients to flow\n",
      "into the labels input on backprop by default.\n",
      "\n",
      "See `tf.nn.softmax_cross_entropy_with_logits_v2`.\n",
      "\n",
      "WARNING:tensorflow:From /anaconda3/lib/python3.6/site-packages/tensorflow/python/training/saver.py:1266: checkpoint_exists (from tensorflow.python.training.checkpoint_management) is deprecated and will be removed in a future version.\n",
      "Instructions for updating:\n",
      "Use standard file APIs to check for files with this prefix.\n",
      "INFO:tensorflow:Restoring parameters from /anaconda3/lib/python3.6/site-packages/ADTLib/files/KickADTLibAll\n",
      "INFO:tensorflow:Restoring parameters from /anaconda3/lib/python3.6/site-packages/ADTLib/files/SnareADTLibAll\n",
      "INFO:tensorflow:Restoring parameters from /anaconda3/lib/python3.6/site-packages/ADTLib/files/HihatADTLibAll\n",
      "INFO:tensorflow:Restoring parameters from /anaconda3/lib/python3.6/site-packages/ADTLib/files/KickADTLibAll\n",
      "INFO:tensorflow:Restoring parameters from /anaconda3/lib/python3.6/site-packages/ADTLib/files/SnareADTLibAll\n",
      "INFO:tensorflow:Restoring parameters from /anaconda3/lib/python3.6/site-packages/ADTLib/files/HihatADTLibAll\n",
      "INFO:tensorflow:Restoring parameters from /anaconda3/lib/python3.6/site-packages/ADTLib/files/KickADTLibAll\n",
      "INFO:tensorflow:Restoring parameters from /anaconda3/lib/python3.6/site-packages/ADTLib/files/SnareADTLibAll\n",
      "INFO:tensorflow:Restoring parameters from /anaconda3/lib/python3.6/site-packages/ADTLib/files/HihatADTLibAll\n",
      "INFO:tensorflow:Restoring parameters from /anaconda3/lib/python3.6/site-packages/ADTLib/files/KickADTLibAll\n",
      "INFO:tensorflow:Restoring parameters from /anaconda3/lib/python3.6/site-packages/ADTLib/files/SnareADTLibAll\n",
      "INFO:tensorflow:Restoring parameters from /anaconda3/lib/python3.6/site-packages/ADTLib/files/HihatADTLibAll\n",
      "INFO:tensorflow:Restoring parameters from /anaconda3/lib/python3.6/site-packages/ADTLib/files/KickADTLibAll\n",
      "INFO:tensorflow:Restoring parameters from /anaconda3/lib/python3.6/site-packages/ADTLib/files/SnareADTLibAll\n",
      "INFO:tensorflow:Restoring parameters from /anaconda3/lib/python3.6/site-packages/ADTLib/files/HihatADTLibAll\n",
      "INFO:tensorflow:Restoring parameters from /anaconda3/lib/python3.6/site-packages/ADTLib/files/KickADTLibAll\n",
      "INFO:tensorflow:Restoring parameters from /anaconda3/lib/python3.6/site-packages/ADTLib/files/SnareADTLibAll\n",
      "INFO:tensorflow:Restoring parameters from /anaconda3/lib/python3.6/site-packages/ADTLib/files/HihatADTLibAll\n",
      "INFO:tensorflow:Restoring parameters from /anaconda3/lib/python3.6/site-packages/ADTLib/files/KickADTLibAll\n",
      "INFO:tensorflow:Restoring parameters from /anaconda3/lib/python3.6/site-packages/ADTLib/files/SnareADTLibAll\n",
      "INFO:tensorflow:Restoring parameters from /anaconda3/lib/python3.6/site-packages/ADTLib/files/HihatADTLibAll\n",
      "INFO:tensorflow:Restoring parameters from /anaconda3/lib/python3.6/site-packages/ADTLib/files/KickADTLibAll\n",
      "INFO:tensorflow:Restoring parameters from /anaconda3/lib/python3.6/site-packages/ADTLib/files/SnareADTLibAll\n",
      "INFO:tensorflow:Restoring parameters from /anaconda3/lib/python3.6/site-packages/ADTLib/files/HihatADTLibAll\n"
     ]
    },
    {
     "name": "stderr",
     "output_type": "stream",
     "text": [
      "/anaconda3/lib/python3.6/site-packages/scipy/io/wavfile.py:273: WavFileWarning: Chunk (non-data) not understood, skipping it.\n",
      "  WavFileWarning)\n"
     ]
    },
    {
     "name": "stdout",
     "output_type": "stream",
     "text": [
      "INFO:tensorflow:Restoring parameters from /anaconda3/lib/python3.6/site-packages/ADTLib/files/KickADTLibAll\n",
      "INFO:tensorflow:Restoring parameters from /anaconda3/lib/python3.6/site-packages/ADTLib/files/SnareADTLibAll\n",
      "INFO:tensorflow:Restoring parameters from /anaconda3/lib/python3.6/site-packages/ADTLib/files/HihatADTLibAll\n",
      "INFO:tensorflow:Restoring parameters from /anaconda3/lib/python3.6/site-packages/ADTLib/files/KickADTLibAll\n",
      "INFO:tensorflow:Restoring parameters from /anaconda3/lib/python3.6/site-packages/ADTLib/files/SnareADTLibAll\n",
      "INFO:tensorflow:Restoring parameters from /anaconda3/lib/python3.6/site-packages/ADTLib/files/HihatADTLibAll\n",
      "INFO:tensorflow:Restoring parameters from /anaconda3/lib/python3.6/site-packages/ADTLib/files/KickADTLibAll\n",
      "INFO:tensorflow:Restoring parameters from /anaconda3/lib/python3.6/site-packages/ADTLib/files/SnareADTLibAll\n",
      "INFO:tensorflow:Restoring parameters from /anaconda3/lib/python3.6/site-packages/ADTLib/files/HihatADTLibAll\n",
      "INFO:tensorflow:Restoring parameters from /anaconda3/lib/python3.6/site-packages/ADTLib/files/KickADTLibAll\n",
      "INFO:tensorflow:Restoring parameters from /anaconda3/lib/python3.6/site-packages/ADTLib/files/SnareADTLibAll\n",
      "INFO:tensorflow:Restoring parameters from /anaconda3/lib/python3.6/site-packages/ADTLib/files/HihatADTLibAll\n",
      "INFO:tensorflow:Restoring parameters from /anaconda3/lib/python3.6/site-packages/ADTLib/files/KickADTLibAll\n",
      "INFO:tensorflow:Restoring parameters from /anaconda3/lib/python3.6/site-packages/ADTLib/files/SnareADTLibAll\n",
      "INFO:tensorflow:Restoring parameters from /anaconda3/lib/python3.6/site-packages/ADTLib/files/HihatADTLibAll\n",
      "INFO:tensorflow:Restoring parameters from /anaconda3/lib/python3.6/site-packages/ADTLib/files/KickADTLibAll\n",
      "INFO:tensorflow:Restoring parameters from /anaconda3/lib/python3.6/site-packages/ADTLib/files/SnareADTLibAll\n",
      "INFO:tensorflow:Restoring parameters from /anaconda3/lib/python3.6/site-packages/ADTLib/files/HihatADTLibAll\n"
     ]
    }
   ],
   "source": [
    "#Run ADTLib for beatbox files\n",
    "dict_ADT = {}\n",
    "for i, filename in enumerate(filenames):\n",
    "    name = filename + '.wav'\n",
    "    dict_ADT[filename] = ADT(['beatboxset1/'+ name])[0]"
   ]
  },
  {
   "cell_type": "code",
   "execution_count": 23,
   "metadata": {
    "scrolled": true
   },
   "outputs": [
    {
     "name": "stdout",
     "output_type": "stream",
     "text": [
      "INFO:tensorflow:Restoring parameters from /anaconda3/lib/python3.6/site-packages/ADTLib/files/KickADTLibAll\n",
      "INFO:tensorflow:Restoring parameters from /anaconda3/lib/python3.6/site-packages/ADTLib/files/SnareADTLibAll\n",
      "INFO:tensorflow:Restoring parameters from /anaconda3/lib/python3.6/site-packages/ADTLib/files/HihatADTLibAll\n",
      "INFO:tensorflow:Restoring parameters from /anaconda3/lib/python3.6/site-packages/ADTLib/files/KickADTLibAll\n",
      "INFO:tensorflow:Restoring parameters from /anaconda3/lib/python3.6/site-packages/ADTLib/files/SnareADTLibAll\n",
      "INFO:tensorflow:Restoring parameters from /anaconda3/lib/python3.6/site-packages/ADTLib/files/HihatADTLibAll\n",
      "INFO:tensorflow:Restoring parameters from /anaconda3/lib/python3.6/site-packages/ADTLib/files/KickADTLibAll\n",
      "INFO:tensorflow:Restoring parameters from /anaconda3/lib/python3.6/site-packages/ADTLib/files/SnareADTLibAll\n",
      "INFO:tensorflow:Restoring parameters from /anaconda3/lib/python3.6/site-packages/ADTLib/files/HihatADTLibAll\n",
      "INFO:tensorflow:Restoring parameters from /anaconda3/lib/python3.6/site-packages/ADTLib/files/KickADTLibAll\n",
      "INFO:tensorflow:Restoring parameters from /anaconda3/lib/python3.6/site-packages/ADTLib/files/SnareADTLibAll\n",
      "INFO:tensorflow:Restoring parameters from /anaconda3/lib/python3.6/site-packages/ADTLib/files/HihatADTLibAll\n",
      "INFO:tensorflow:Restoring parameters from /anaconda3/lib/python3.6/site-packages/ADTLib/files/KickADTLibAll\n",
      "INFO:tensorflow:Restoring parameters from /anaconda3/lib/python3.6/site-packages/ADTLib/files/SnareADTLibAll\n",
      "INFO:tensorflow:Restoring parameters from /anaconda3/lib/python3.6/site-packages/ADTLib/files/HihatADTLibAll\n",
      "INFO:tensorflow:Restoring parameters from /anaconda3/lib/python3.6/site-packages/ADTLib/files/KickADTLibAll\n",
      "INFO:tensorflow:Restoring parameters from /anaconda3/lib/python3.6/site-packages/ADTLib/files/SnareADTLibAll\n",
      "INFO:tensorflow:Restoring parameters from /anaconda3/lib/python3.6/site-packages/ADTLib/files/HihatADTLibAll\n",
      "INFO:tensorflow:Restoring parameters from /anaconda3/lib/python3.6/site-packages/ADTLib/files/KickADTLibAll\n",
      "INFO:tensorflow:Restoring parameters from /anaconda3/lib/python3.6/site-packages/ADTLib/files/SnareADTLibAll\n",
      "INFO:tensorflow:Restoring parameters from /anaconda3/lib/python3.6/site-packages/ADTLib/files/HihatADTLibAll\n",
      "INFO:tensorflow:Restoring parameters from /anaconda3/lib/python3.6/site-packages/ADTLib/files/KickADTLibAll\n",
      "INFO:tensorflow:Restoring parameters from /anaconda3/lib/python3.6/site-packages/ADTLib/files/SnareADTLibAll\n",
      "INFO:tensorflow:Restoring parameters from /anaconda3/lib/python3.6/site-packages/ADTLib/files/HihatADTLibAll\n",
      "INFO:tensorflow:Restoring parameters from /anaconda3/lib/python3.6/site-packages/ADTLib/files/KickADTLibAll\n",
      "INFO:tensorflow:Restoring parameters from /anaconda3/lib/python3.6/site-packages/ADTLib/files/SnareADTLibAll\n",
      "INFO:tensorflow:Restoring parameters from /anaconda3/lib/python3.6/site-packages/ADTLib/files/HihatADTLibAll\n",
      "INFO:tensorflow:Restoring parameters from /anaconda3/lib/python3.6/site-packages/ADTLib/files/KickADTLibAll\n",
      "INFO:tensorflow:Restoring parameters from /anaconda3/lib/python3.6/site-packages/ADTLib/files/SnareADTLibAll\n",
      "INFO:tensorflow:Restoring parameters from /anaconda3/lib/python3.6/site-packages/ADTLib/files/HihatADTLibAll\n",
      "INFO:tensorflow:Restoring parameters from /anaconda3/lib/python3.6/site-packages/ADTLib/files/KickADTLibAll\n",
      "INFO:tensorflow:Restoring parameters from /anaconda3/lib/python3.6/site-packages/ADTLib/files/SnareADTLibAll\n",
      "INFO:tensorflow:Restoring parameters from /anaconda3/lib/python3.6/site-packages/ADTLib/files/HihatADTLibAll\n",
      "INFO:tensorflow:Restoring parameters from /anaconda3/lib/python3.6/site-packages/ADTLib/files/KickADTLibAll\n",
      "INFO:tensorflow:Restoring parameters from /anaconda3/lib/python3.6/site-packages/ADTLib/files/SnareADTLibAll\n",
      "INFO:tensorflow:Restoring parameters from /anaconda3/lib/python3.6/site-packages/ADTLib/files/HihatADTLibAll\n",
      "INFO:tensorflow:Restoring parameters from /anaconda3/lib/python3.6/site-packages/ADTLib/files/KickADTLibAll\n",
      "INFO:tensorflow:Restoring parameters from /anaconda3/lib/python3.6/site-packages/ADTLib/files/SnareADTLibAll\n",
      "INFO:tensorflow:Restoring parameters from /anaconda3/lib/python3.6/site-packages/ADTLib/files/HihatADTLibAll\n",
      "INFO:tensorflow:Restoring parameters from /anaconda3/lib/python3.6/site-packages/ADTLib/files/KickADTLibAll\n",
      "INFO:tensorflow:Restoring parameters from /anaconda3/lib/python3.6/site-packages/ADTLib/files/SnareADTLibAll\n",
      "INFO:tensorflow:Restoring parameters from /anaconda3/lib/python3.6/site-packages/ADTLib/files/HihatADTLibAll\n"
     ]
    }
   ],
   "source": [
    "#Run ADTLib for ENST files\n",
    "dict_ADT_enst = {}\n",
    "for i, filename in enumerate(filenames_enst):\n",
    "    dict_ADT_enst[strip_end(filenames_enst[i],'.txt')] = ADT(['ENST-drums-dataset/'+ strip_end(filenames_enst[i],'.txt') + '.wav'])[0]\n"
   ]
  },
  {
   "cell_type": "markdown",
   "metadata": {},
   "source": [
    "# 2) Evaluation\n",
    "\n",
    "The evaluation method focus in understanding how well the implemented algorithm performs by comparing the hand-made annotations, available in the data sets, to the annotations produced by ADTLib. \n",
    "\n",
    "The evaluation methodology it's the same used in *[Automatic drum transcription for polyphonic recordings using soft attention mechanisms and convolutional neural networks](https://carlsouthall.files.wordpress.com/2017/12/ismir2017adt.pdf)*\n",
    "\n",
    "A F-measure value will be computed for each different sound: kick, snare and hi-hat.  The detected onsets are accepted as true positives if they fall within 50ms of the hand-made annotations provided by each dataset. The individual instrument F-measures are calculated as the mean F-measure across test tracks and the mean instrument F-measure is calculated as the mean F-measure across the individual instruments. \n",
    "\n",
    "\n",
    "\n",
    "[mir_eval.onset.evaluate](https://github.com/craffel/mir_eval): determine which estimated onsets are “correct”, where correctness is defined as being within a small window of a reference onset.\n",
    "More information about mir_eval can be red in *[mir_eval: A Transparent Implementation of Common MIR Metrics](https://bmcfee.github.io/papers/ismir2014_mireval.pdf)*\n"
   ]
  },
  {
   "cell_type": "code",
   "execution_count": 24,
   "metadata": {},
   "outputs": [
    {
     "name": "stderr",
     "output_type": "stream",
     "text": [
      "/anaconda3/lib/python3.6/site-packages/mir_eval/onset.py:49: UserWarning: Reference onsets are empty.\n",
      "  warnings.warn(\"Reference onsets are empty.\")\n",
      "/anaconda3/lib/python3.6/site-packages/mir_eval/onset.py:51: UserWarning: Estimated onsets are empty.\n",
      "  warnings.warn(\"Estimated onsets are empty.\")\n"
     ]
    }
   ],
   "source": [
    "dict_FM = {}\n",
    "dict_FM_enst = {}\n",
    "list_Kick = []\n",
    "list_Snare = []\n",
    "list_Hihat = []\n",
    "list_Kick_enst = []\n",
    "list_Snare_enst = []\n",
    "list_Hihat_enst = []\n",
    "\n",
    "for i, filename in enumerate(filenames):\n",
    "    u1 = np.fromiter(dict_bb[filename]['Kick'], dtype = float)\n",
    "    a1 = np.fromiter(dict_ADT[filename]['Kick'], dtype = float)\n",
    "    measure_kick = mir_eval.onset.evaluate(u1,a1,window=0.05)\n",
    "    list_Kick.append(measure_kick['F-measure'])\n",
    "    \n",
    "    u2 = np.fromiter(dict_bb[filename]['Snare'], dtype = float)\n",
    "    a2 = np.fromiter(dict_ADT[filename]['Snare'], dtype = float)\n",
    "    measure_snare = mir_eval.onset.evaluate(u2,a2,window=0.05)\n",
    "    list_Snare.append(measure_snare['F-measure'])\n",
    "    \n",
    "    u3 = np.fromiter(dict_bb[filename]['Hihat'], dtype = float)\n",
    "    a3 = np.fromiter(dict_ADT[filename]['Hihat'], dtype = float)\n",
    "    measure_Hihat = mir_eval.onset.evaluate(u3,a3,window=0.05)\n",
    "    list_Hihat.append(measure_Hihat['F-measure'])\n",
    "    \n",
    "    dict_FM[filename] = (measure_kick['F-measure'],measure_snare['F-measure'],measure_Hihat['F-measure'])\n",
    "    \n",
    "for i, filename in enumerate(filenames_enst):\n",
    "    \n",
    "    a = strip_end(filename,'.txt')\n",
    "    u1 = np.fromiter(dict_enst[a+'.txt']['Kick'], dtype = float)\n",
    "    a1 = np.fromiter(dict_ADT_enst[a]['Kick'], dtype = float)\n",
    "    measure_kick = mir_eval.onset.evaluate(u1,a1,window=0.05)\n",
    "    list_Kick_enst.append(measure_kick['F-measure'])\n",
    "    \n",
    "    u2 = np.fromiter(dict_enst[a+'.txt']['Snare'], dtype = float)\n",
    "    a2 = np.fromiter(dict_ADT_enst[a]['Snare'], dtype = float)\n",
    "    measure_snare = mir_eval.onset.evaluate(u2,a2,window=0.05)\n",
    "    list_Snare_enst.append(measure_snare['F-measure'])\n",
    "    \n",
    "    u3 = np.fromiter(dict_enst[a+'.txt']['Hihat'], dtype = float)\n",
    "    a3 = np.fromiter(dict_ADT_enst[a]['Hihat'], dtype = float)\n",
    "    measure_Hihat = mir_eval.onset.evaluate(u3,a3,window=0.05)\n",
    "    list_Hihat_enst.append(measure_Hihat['F-measure'])\n",
    "    \n",
    "    dict_FM_enst[filename] = (measure_kick['F-measure'],measure_snare['F-measure'],measure_Hihat['F-measure'])\n",
    "    \n",
    "    \n",
    "    \n",
    "    "
   ]
  },
  {
   "cell_type": "markdown",
   "metadata": {},
   "source": [
    "# 3) Results\n",
    "\n",
    "A variaty of graphs was computed in order to retrieve meaningful information:\n",
    "* F-measure score across beatbox dataset\n",
    "* F-measure score across ENST-dataset\n",
    "* F-measure score across different instruments\n",
    "* F-measure score across datasets"
   ]
  },
  {
   "cell_type": "code",
   "execution_count": 25,
   "metadata": {},
   "outputs": [
    {
     "data": {
      "image/png": "[encoded data removed]",
      "text/plain": [
       "<Figure size 1440x648 with 1 Axes>"
      ]
     },
     "metadata": {},
     "output_type": "display_data"
    }
   ],
   "source": [
    "n_groups = 14\n",
    "\n",
    "means_Kick = list_Kick\n",
    "means_Snare = list_Snare\n",
    "means_Hihat = list_Hihat\n",
    "\n",
    "fig, ax = plt.subplots()\n",
    "index = np.arange(n_groups)\n",
    "bar_width = 0.15\n",
    "opacity = 0.8\n",
    " \n",
    "rects1 = plt.bar(index, means_Kick, bar_width, alpha=opacity, color='b', label='Kick')\n",
    "rects2 = plt.bar(index + bar_width, means_Snare, bar_width, alpha=opacity, color='g', label='Snare')\n",
    "rects3 = plt.bar(index + 0.3, means_Hihat, bar_width, alpha=opacity, color='y', label='Hihat')\n",
    "\n",
    "plt.xlabel('Songs')\n",
    "plt.ylabel('F-measure')\n",
    "plt.xticks(index + bar_width, filenames)\n",
    "plt.legend()\n",
    "plt.title('F-measure score across beatbox dataset')\n",
    "plt.tight_layout()\n",
    "plt.rcParams[\"figure.figsize\"] = [20,9]\n",
    "plt.show()"
   ]
  },
  {
   "cell_type": "code",
   "execution_count": 27,
   "metadata": {},
   "outputs": [
    {
     "data": {
      "image/png": "[encoded data removed]",
      "text/plain": [
       "<Figure size 3600x720 with 1 Axes>"
      ]
     },
     "metadata": {},
     "output_type": "display_data"
    }
   ],
   "source": [
    "n_groups = 14\n",
    "\n",
    "means_Kick = list_Kick_enst\n",
    "means_Snare = list_Snare_enst\n",
    "means_Hihat = list_Hihat_enst\n",
    "\n",
    "fig, ax = plt.subplots()\n",
    "index = np.arange(n_groups)\n",
    "bar_width = 0.15\n",
    "opacity = 0.8\n",
    " \n",
    "rects1 = plt.bar(index, means_Kick, bar_width, alpha=opacity, color='b', label='Kick')\n",
    "rects2 = plt.bar(index + bar_width, means_Snare, bar_width, alpha=opacity, color='g', label='Snare')\n",
    "rects3 = plt.bar(index + 0.3, means_Hihat, bar_width, alpha=opacity, color='y', label='Hihat')\n",
    "\n",
    "plt.xlabel('Songs')\n",
    "plt.ylabel('F-measure')\n",
    "plt.xticks(index + bar_width, filenames_enst)\n",
    "plt.legend()\n",
    "plt.title('F-measure score across ENST-dataset')\n",
    "plt.tight_layout()\n",
    "plt.rcParams[\"figure.figsize\"] = [50,10]\n",
    "plt.show()"
   ]
  },
  {
   "cell_type": "code",
   "execution_count": 29,
   "metadata": {},
   "outputs": [
    {
     "data": {
      "image/png": "[encoded data removed]",
      "text/plain": [
       "<Figure size 720x360 with 1 Axes>"
      ]
     },
     "metadata": {},
     "output_type": "display_data"
    }
   ],
   "source": [
    "def mean(l):\n",
    "    return sum(l) / float(len(l))\n",
    "\n",
    "means_Kick = mean(list_Kick)\n",
    "means_Snare = mean(list_Snare)\n",
    "means_Hihat = mean(list_Hihat)\n",
    "means_Kick_enst = mean(list_Kick_enst)\n",
    "means_Snare_enst = mean(list_Snare_enst)\n",
    "means_Hihat_enst = mean(list_Hihat_enst)\n",
    "\n",
    "fig, ax = plt.subplots()\n",
    "index = np.arange(1)\n",
    "bar_width = 0.15\n",
    "opacity = 0.8\n",
    "space = 0.5\n",
    " \n",
    "rects1 = plt.bar(index, means_Kick, bar_width, alpha=opacity, color='b', label='Beatbox')\n",
    "rects2 = plt.bar(index + bar_width, means_Kick_enst, bar_width, alpha=opacity, color='g', label='Enst')\n",
    "rects3 = plt.bar(index + space, means_Snare, bar_width, alpha=opacity, color='b')\n",
    "rects4 = plt.bar(index + space + bar_width, means_Snare_enst, bar_width, alpha=opacity, color='g')\n",
    "rects5 = plt.bar(index + space + space, means_Hihat, bar_width, alpha=opacity, color='b')\n",
    "rects6 = plt.bar(index + space +  space + bar_width, means_Hihat_enst, bar_width, alpha=opacity, color='g')\n",
    "\n",
    "plt.xlabel('Instruments')\n",
    "plt.ylabel('F-measure')\n",
    "plt.legend()\n",
    "plt.title('F-measure score across different instruments')\n",
    "plt.tight_layout()\n",
    "plt.rcParams[\"figure.figsize\"] = [10,5]\n",
    "plt.show()"
   ]
  },
  {
   "cell_type": "code",
   "execution_count": 35,
   "metadata": {},
   "outputs": [
    {
     "data": {
      "image/png": "[encoded data removed]",
      "text/plain": [
       "<Figure size 720x360 with 1 Axes>"
      ]
     },
     "metadata": {},
     "output_type": "display_data"
    }
   ],
   "source": [
    "mean_beatbox = (means_Kick + means_Snare + means_Hihat)/3\n",
    "mean_enst = (means_Kick_enst + means_Snare_enst + means_Hihat_enst)/3\n",
    "\n",
    "fig, ax = plt.subplots()\n",
    "index = np.arange(1)\n",
    "bar_width = 0.04\n",
    "opacity = 0.8\n",
    " \n",
    "rects1 = plt.bar(index, mean_beatbox, bar_width, alpha=opacity, color='b', label='BeatBox')\n",
    "rects2 = plt.bar(index + bar_width, mean_enst, bar_width, alpha=opacity, color='g', label='ENST')\n",
    "\n",
    "plt.xlabel('Songs')\n",
    "plt.ylabel('F-measure')\n",
    "plt.legend()\n",
    "plt.title('F-measure score across datasets')\n",
    "plt.tight_layout()\n",
    "plt.rcParams[\"figure.figsize\"] = [10,5]\n",
    "plt.show()"
   ]
  },
  {
   "cell_type": "code",
   "execution_count": null,
   "metadata": {},
   "outputs": [],
   "source": []
  },
  {
   "cell_type": "code",
   "execution_count": null,
   "metadata": {},
   "outputs": [],
   "source": []
  }
 ],
 "metadata": {
  "kernelspec": {
   "display_name": "Python 3",
   "language": "python",
   "name": "python3"
  },
  "language_info": {
   "codemirror_mode": {
    "name": "ipython",
    "version": 3
   },
   "file_extension": ".py",
   "mimetype": "text/x-python",
   "name": "python",
   "nbconvert_exporter": "python",
   "pygments_lexer": "ipython3",
   "version": "3.6.5"
  }
 },
 "nbformat": 4,
 "nbformat_minor": 2
}
